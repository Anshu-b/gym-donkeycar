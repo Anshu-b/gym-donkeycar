{
 "cells": [
  {
   "cell_type": "code",
   "execution_count": 2,
   "metadata": {},
   "outputs": [
    {
     "name": "stderr",
     "output_type": "stream",
     "text": [
      "\n"
     ]
    }
   ],
   "source": [
    "import gym_donkeycar\n",
    "import gym\n",
    "import numpy\n",
    "import cv2\n",
    "from stable_baseline"
   ]
  },
  {
   "cell_type": "code",
   "execution_count": 3,
   "metadata": {},
   "outputs": [
    {
     "name": "stderr",
     "output_type": "stream",
     "text": [
      "INFO:gym_donkeycar.core.client:connecting to localhost:9091 \n",
      "/Users/anshbhatnagar/miniconda3/lib/python3.12/site-packages/gym/spaces/box.py:78: UserWarning: \u001b[33mWARN: Box bound precision lowered by casting to float32\u001b[0m\n",
      "  logger.warn(f\"Box bound precision lowered by casting to {self.dtype}\")\n",
      "INFO:gym_donkeycar.envs.donkey_sim:on need car config\n",
      "INFO:gym_donkeycar.envs.donkey_sim:sending car config.\n",
      "INFO:gym_donkeycar.envs.donkey_sim:sim started!\n"
     ]
    },
    {
     "name": "stdout",
     "output_type": "stream",
     "text": [
      "starting DonkeyGym env\n",
      "Setting default: start_delay 5.0\n",
      "Setting default: max_cte 5.0\n",
      "Setting default: frame_skip 1\n",
      "Setting default: cam_resolution (120, 160, 3)\n",
      "Setting default: log_level 20\n",
      "Setting default: host localhost\n",
      "Setting default: port 9091\n",
      "Setting default: steer_limit 0.5\n",
      "Setting default: throttle_min 0.0\n",
      "Setting default: throttle_max 1.0\n"
     ]
    },
    {
     "name": "stderr",
     "output_type": "stream",
     "text": [
      "Exception in thread Thread-17 (proc_msg):\n",
      "Traceback (most recent call last):\n",
      "  File \"/Users/anshbhatnagar/Desktop/COGS-188/gym-donkeycar/gym_donkeycar/core/client.py\", line 101, in proc_msg\n",
      "    data = s.recv(1024 * 256)\n",
      "           ^^^^^^^^^^^^^^^^^^\n",
      "ConnectionResetError: [Errno 54] Connection reset by peer\n",
      "\n",
      "During handling of the above exception, another exception occurred:\n",
      "\n",
      "Traceback (most recent call last):\n",
      "  File \"/Users/anshbhatnagar/miniconda3/lib/python3.12/threading.py\", line 1075, in _bootstrap_inner\n",
      "    self.run()\n",
      "  File \"/Users/anshbhatnagar/miniconda3/lib/python3.12/site-packages/ipykernel/ipkernel.py\", line 766, in run_closure\n",
      "    _threading_Thread_run(self)\n",
      "  File \"/Users/anshbhatnagar/miniconda3/lib/python3.12/threading.py\", line 1012, in run\n",
      "    self._target(*self._args, **self._kwargs)\n",
      "  File \"/Users/anshbhatnagar/Desktop/COGS-188/gym-donkeycar/gym_donkeycar/core/client.py\", line 153, in proc_msg\n",
      "    self.on_msg_recv({\"msg_type\": \"aborted\"})\n",
      "  File \"/Users/anshbhatnagar/Desktop/COGS-188/gym-donkeycar/gym_donkeycar/core/sim_client.py\", line 47, in on_msg_recv\n",
      "    self.msg_handler.on_recv_message(json_obj)\n",
      "  File \"/Users/anshbhatnagar/Desktop/COGS-188/gym-donkeycar/gym_donkeycar/envs/donkey_sim.py\", line 390, in on_recv_message\n",
      "    self.fns[msg_type](message)\n",
      "  File \"/Users/anshbhatnagar/Desktop/COGS-188/gym-donkeycar/gym_donkeycar/envs/donkey_sim.py\", line 202, in on_abort\n",
      "    self.client.stop()\n",
      "  File \"/Users/anshbhatnagar/Desktop/COGS-188/gym-donkeycar/gym_donkeycar/core/client.py\", line 74, in stop\n",
      "    self.th.join()\n",
      "  File \"/Users/anshbhatnagar/miniconda3/lib/python3.12/threading.py\", line 1146, in join\n",
      "    raise RuntimeError(\"cannot join current thread\")\n",
      "RuntimeError: cannot join current thread\n"
     ]
    },
    {
     "name": "stdout",
     "output_type": "stream",
     "text": [
      "Exception: [Errno 54] Connection reset by peer\n"
     ]
    }
   ],
   "source": [
    "env = gym.make(\"donkey-warren-track-v0\")"
   ]
  },
  {
   "cell_type": "code",
   "execution_count": 23,
   "metadata": {},
   "outputs": [],
   "source": [
    "obs = env.reset()"
   ]
  },
  {
   "cell_type": "code",
   "execution_count": 20,
   "metadata": {},
   "outputs": [
    {
     "data": {
      "text/plain": [
       "'\\ncv2.imshow(\"test\", obs)\\ncv2.waitKey(0)\\n'"
      ]
     },
     "execution_count": 20,
     "metadata": {},
     "output_type": "execute_result"
    }
   ],
   "source": [
    "'''\n",
    "cv2.imshow(\"test\", obs)\n",
    "cv2.waitKey(0)\n",
    "'''"
   ]
  },
  {
   "cell_type": "code",
   "execution_count": 21,
   "metadata": {},
   "outputs": [
    {
     "name": "stdout",
     "output_type": "stream",
     "text": [
      "Obs: (120, 160, 3)\n",
      "Reward: -1.0320571620111343e-07\n",
      "Done?: False\n",
      "Info: {'pos': (5.20005893707275, 0.0698089301586151, -3.44941711425781), 'cte': -0.048603780567646, 'speed': 0.000394347647670656, 'forward_vel': np.float64(-1.0320571620111343e-07), 'hit': 'none', 'gyro': (1.17581475933548e-06, -4.3971958803013e-06, 8.66991172188136e-07), 'accel': (6.51634763926268e-06, -1.71246720128693e-05, -3.3993273973465e-06), 'vel': (0.000394347647670656, -9.79488845587184e-08, 2.95694917440414e-08), 'lidar': [], 'car': (0.00448943860828877, 359.946136474609, 269.999572753906), 'last_lap_time': 0.0, 'lap_count': 0}\n"
     ]
    }
   ],
   "source": [
    "obs, reward, done, info = env.step([0.0, 0.0])\n",
    "print(f\"Obs: {obs.shape}\")\n",
    "print(f\"Reward: {reward}\")\n",
    "print(f\"Done?: {done}\")\n",
    "print(f\"Info: {info}\")"
   ]
  },
  {
   "cell_type": "code",
   "execution_count": 22,
   "metadata": {},
   "outputs": [],
   "source": [
    "obs, reward, done, info = env.step([0.0, 1.0])"
   ]
  },
  {
   "cell_type": "code",
   "execution_count": null,
   "metadata": {},
   "outputs": [],
   "source": [
    "model = PPO(\"CnnPolicy\", env, verbose=1)"
   ]
  }
 ],
 "metadata": {
  "kernelspec": {
   "display_name": "base",
   "language": "python",
   "name": "python3"
  },
  "language_info": {
   "codemirror_mode": {
    "name": "ipython",
    "version": 3
   },
   "file_extension": ".py",
   "mimetype": "text/x-python",
   "name": "python",
   "nbconvert_exporter": "python",
   "pygments_lexer": "ipython3",
   "version": "3.12.9"
  }
 },
 "nbformat": 4,
 "nbformat_minor": 2
}
